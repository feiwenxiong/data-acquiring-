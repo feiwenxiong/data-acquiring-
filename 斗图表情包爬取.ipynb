{
 "cells": [
  {
   "cell_type": "code",
   "execution_count": 1,
   "metadata": {},
   "outputs": [],
   "source": [
    "import requests # 网页请求\n",
    "import lxml # 元素树\n",
    "from lxml import etree\n",
    "import bs4   # beautiful soup包\n",
    "from bs4 import BeautifulSoup\n",
    "import os"
   ]
  },
  {
   "cell_type": "code",
   "execution_count": 2,
   "metadata": {},
   "outputs": [],
   "source": [
    "def get_html(url):\n",
    "    headers ={\n",
    "        'User-Agent':'Mozilla/5.0 (Windows NT 10.0; Win64; x64) AppleWebKit/537.36 (KHTML, like Gecko) Chrome/75.0.3770.100 Safari/537.36'\n",
    "    }\n",
    "    html = requests.get(url,headers = headers).text\n",
    "   \n",
    "    return html\n",
    "    \n",
    "    "
   ]
  },
  {
   "cell_type": "code",
   "execution_count": 3,
   "metadata": {},
   "outputs": [],
   "source": [
    "#url ='http://www.bbsnet.com/biaoqingbao'"
   ]
  },
  {
   "cell_type": "code",
   "execution_count": 4,
   "metadata": {},
   "outputs": [],
   "source": [
    "# get_html(url)"
   ]
  },
  {
   "cell_type": "code",
   "execution_count": 5,
   "metadata": {},
   "outputs": [],
   "source": [
    "#匹配找到图的超链接\n",
    "\n",
    "\n",
    "def parse_image_html(html):\n",
    "    imageurls=[]\n",
    "    html = etree.HTML(html)\n",
    "    lis = html.xpath('//div[@class=\"mainleft\"]/ul/li')\n",
    "    \n",
    "    for li in lis:\n",
    "        imageurl = li.xpath('.//div[1]/a/@href')[0]\n",
    "        #//div[@class=\"article\"]/h2/a/@href\n",
    "        imageurls.append(imageurl)\n",
    "    print('波妞正在收集你的表情包url哦:',imageurls)\n",
    "        #//*[@id=\"post_container\"]/li[1]/div[1]/a\n",
    "    return imageurls\n",
    "\n",
    "\n",
    "        \n",
    "def downloadimage(url):\n",
    "    \n",
    "    headers  ={\n",
    "        'User-Agent':'Mozilla/5.0 (Windows NT 10.0; Win64; x64) AppleWebKit/537.36 (KHTML, like Gecko) Chrome/75.0.3770.100 Safari/537.36'\n",
    "    }\n",
    "    r = requests.get(url,headers=headers).text\n",
    "    html = etree.HTML(r)\n",
    "    \n",
    "    name = html.xpath('//div[@id =\"post_content\"]/p/img/@alt')[0]\n",
    "    \n",
    "    #真实地址\n",
    "    image_true_url = html.xpath(\"//div[@id =\\\"post_content\\\"]/p/img/@src\")[0]\n",
    "    #//div[@id =\"post_content\"]/p/img/@src\n",
    "    image_content = requests.get(image_true_url).content\n",
    "    \n",
    "    os.chdir(path_final)\n",
    "    with open(name+'.gif','wb') as fn:\n",
    "        fn.write(image_content)\n",
    "        print('波妞正在努力下载哦 ： %s' % url)\n",
    "    \n",
    "   \n",
    "    \n",
    "\n"
   ]
  },
  {
   "cell_type": "code",
   "execution_count": 8,
   "metadata": {},
   "outputs": [
    {
     "name": "stdout",
     "output_type": "stream",
     "text": [
      "波妞能爬表情包哦，让波妞为宗介服务哇：请输如要保存到的文件夹地址>>>>>>C:\\Users\\richa\\Desktop\\表情包\n",
      "波妞先看看文件夹是否存在: True\n",
      "宗介，你想要下载多少页啊？一页好像有30个表情>>>>>10\n",
      "波妞正在收集你的表情包url哦: ['http://www.bbsnet.com/niupigu.html', 'http://www.bbsnet.com/xiaotiantian.html', 'http://www.bbsnet.com/shenghuo-2.html', 'http://www.bbsnet.com/chixiangchang.html', 'http://www.bbsnet.com/songzha.html', 'http://www.bbsnet.com/aiqing.html', 'http://www.bbsnet.com/nadao.html', 'http://www.bbsnet.com/monaodai.html', 'http://www.bbsnet.com/qiong-2.html', 'http://www.bbsnet.com/jiajiu.html', 'http://www.bbsnet.com/yuyin.html', 'http://www.bbsnet.com/liangzai.html', 'http://www.bbsnet.com/kuaileshui.html', 'http://www.bbsnet.com/doutugou.html', 'http://www.bbsnet.com/shougoule.html', 'http://www.bbsnet.com/tianxianbaobao-5.html', 'http://www.bbsnet.com/mengmengding.html', 'http://www.bbsnet.com/aixin-2.html', 'http://www.bbsnet.com/gasp.html', 'http://www.bbsnet.com/wuyan.html', 'http://www.bbsnet.com/buheniwan.html', 'http://www.bbsnet.com/tianni.html', 'http://www.bbsnet.com/xinggan.html', 'http://www.bbsnet.com/aixin.html', 'http://www.bbsnet.com/jiemei.html', 'http://www.bbsnet.com/shufu.html', 'http://www.bbsnet.com/shuoaiwo.html', 'http://www.bbsnet.com/%e7%8c%ab%e5%92%aa%e7%ab%99%e7%ab%8b%e8%a1%a8%e6%83%85%e5%8c%85.html', 'http://www.bbsnet.com/honghongwo.html', 'http://www.bbsnet.com/panghu-2.html']\n",
      "波妞正在努力下载哦 ： http://www.bbsnet.com/niupigu.html\n",
      "波妞正在努力下载哦 ： http://www.bbsnet.com/xiaotiantian.html\n",
      "波妞正在努力下载哦 ： http://www.bbsnet.com/shenghuo-2.html\n",
      "波妞正在努力下载哦 ： http://www.bbsnet.com/chixiangchang.html\n",
      "波妞正在努力下载哦 ： http://www.bbsnet.com/songzha.html\n",
      "波妞正在努力下载哦 ： http://www.bbsnet.com/aiqing.html\n",
      "波妞正在努力下载哦 ： http://www.bbsnet.com/nadao.html\n",
      "波妞正在努力下载哦 ： http://www.bbsnet.com/monaodai.html\n",
      "波妞正在努力下载哦 ： http://www.bbsnet.com/qiong-2.html\n",
      "波妞正在努力下载哦 ： http://www.bbsnet.com/jiajiu.html\n",
      "波妞正在努力下载哦 ： http://www.bbsnet.com/yuyin.html\n",
      "波妞正在努力下载哦 ： http://www.bbsnet.com/liangzai.html\n",
      "波妞正在努力下载哦 ： http://www.bbsnet.com/kuaileshui.html\n",
      "波妞正在努力下载哦 ： http://www.bbsnet.com/doutugou.html\n",
      "波妞正在努力下载哦 ： http://www.bbsnet.com/shougoule.html\n",
      "波妞正在努力下载哦 ： http://www.bbsnet.com/tianxianbaobao-5.html\n",
      "波妞正在努力下载哦 ： http://www.bbsnet.com/mengmengding.html\n",
      "波妞正在努力下载哦 ： http://www.bbsnet.com/aixin-2.html\n",
      "波妞正在努力下载哦 ： http://www.bbsnet.com/gasp.html\n",
      "波妞正在努力下载哦 ： http://www.bbsnet.com/wuyan.html\n",
      "波妞正在努力下载哦 ： http://www.bbsnet.com/buheniwan.html\n",
      "波妞正在努力下载哦 ： http://www.bbsnet.com/tianni.html\n",
      "波妞正在努力下载哦 ： http://www.bbsnet.com/xinggan.html\n",
      "波妞正在努力下载哦 ： http://www.bbsnet.com/aixin.html\n",
      "波妞正在努力下载哦 ： http://www.bbsnet.com/jiemei.html\n",
      "波妞正在努力下载哦 ： http://www.bbsnet.com/shufu.html\n",
      "波妞正在努力下载哦 ： http://www.bbsnet.com/shuoaiwo.html\n",
      "波妞正在努力下载哦 ： http://www.bbsnet.com/%e7%8c%ab%e5%92%aa%e7%ab%99%e7%ab%8b%e8%a1%a8%e6%83%85%e5%8c%85.html\n",
      "波妞正在努力下载哦 ： http://www.bbsnet.com/honghongwo.html\n",
      "波妞正在努力下载哦 ： http://www.bbsnet.com/panghu-2.html\n",
      "波妞下载完毕！\n",
      "波妞正在收集你的表情包url哦: ['http://www.bbsnet.com/xiaopangzi-4.html', 'http://www.bbsnet.com/jiewo20.html', 'http://www.bbsnet.com/fangdian.html', 'http://www.bbsnet.com/fangjiala.html', 'http://www.bbsnet.com/dongshidian.html', 'http://www.bbsnet.com/shenghuohewo.html', 'http://www.bbsnet.com/mazhu.html', 'http://www.bbsnet.com/zhuweiba.html', 'http://www.bbsnet.com/jioleng.html', 'http://www.bbsnet.com/wenhao.html', 'http://www.bbsnet.com/baobao.html', 'http://www.bbsnet.com/xiaonanhai-2.html', 'http://www.bbsnet.com/wangguo.html', 'http://www.bbsnet.com/mutant.html', 'http://www.bbsnet.com/guyongbing.html', 'http://www.bbsnet.com/gounanren.html', 'http://www.bbsnet.com/nameqiang.html', 'http://www.bbsnet.com/shuorenhua.html', 'http://www.bbsnet.com/chuizhuozi.html', 'http://www.bbsnet.com/gazhu.html', 'http://www.bbsnet.com/quanmin.html', 'http://www.bbsnet.com/lol.html', 'http://www.bbsnet.com/feizhaikuaile.html', 'http://www.bbsnet.com/shenlanyao.html', 'http://www.bbsnet.com/mogutou-4.html', 'http://www.bbsnet.com/yangni.html', 'http://www.bbsnet.com/ganqing.html', 'http://www.bbsnet.com/jingcha.html', 'http://www.bbsnet.com/yinshen.html', 'http://www.bbsnet.com/xibuxihuanwo.html']\n",
      "波妞正在努力下载哦 ： http://www.bbsnet.com/xiaopangzi-4.html\n",
      "波妞正在努力下载哦 ： http://www.bbsnet.com/jiewo20.html\n",
      "波妞正在努力下载哦 ： http://www.bbsnet.com/fangdian.html\n",
      "波妞正在努力下载哦 ： http://www.bbsnet.com/fangjiala.html\n",
      "波妞正在努力下载哦 ： http://www.bbsnet.com/dongshidian.html\n",
      "波妞正在努力下载哦 ： http://www.bbsnet.com/shenghuohewo.html\n",
      "波妞正在努力下载哦 ： http://www.bbsnet.com/mazhu.html\n",
      "波妞正在努力下载哦 ： http://www.bbsnet.com/zhuweiba.html\n",
      "波妞正在努力下载哦 ： http://www.bbsnet.com/jioleng.html\n",
      "波妞正在努力下载哦 ： http://www.bbsnet.com/wenhao.html\n",
      "波妞正在努力下载哦 ： http://www.bbsnet.com/baobao.html\n",
      "波妞正在努力下载哦 ： http://www.bbsnet.com/xiaonanhai-2.html\n",
      "波妞正在努力下载哦 ： http://www.bbsnet.com/wangguo.html\n",
      "波妞正在努力下载哦 ： http://www.bbsnet.com/mutant.html\n",
      "波妞正在努力下载哦 ： http://www.bbsnet.com/guyongbing.html\n",
      "波妞正在努力下载哦 ： http://www.bbsnet.com/gounanren.html\n",
      "波妞正在努力下载哦 ： http://www.bbsnet.com/nameqiang.html\n",
      "波妞正在努力下载哦 ： http://www.bbsnet.com/shuorenhua.html\n",
      "波妞正在努力下载哦 ： http://www.bbsnet.com/chuizhuozi.html\n",
      "波妞正在努力下载哦 ： http://www.bbsnet.com/gazhu.html\n",
      "波妞正在努力下载哦 ： http://www.bbsnet.com/quanmin.html\n",
      "波妞正在努力下载哦 ： http://www.bbsnet.com/lol.html\n",
      "波妞正在努力下载哦 ： http://www.bbsnet.com/feizhaikuaile.html\n",
      "波妞正在努力下载哦 ： http://www.bbsnet.com/shenlanyao.html\n",
      "波妞正在努力下载哦 ： http://www.bbsnet.com/mogutou-4.html\n",
      "波妞正在努力下载哦 ： http://www.bbsnet.com/yangni.html\n",
      "波妞正在努力下载哦 ： http://www.bbsnet.com/ganqing.html\n",
      "波妞正在努力下载哦 ： http://www.bbsnet.com/jingcha.html\n",
      "波妞正在努力下载哦 ： http://www.bbsnet.com/yinshen.html\n",
      "波妞正在努力下载哦 ： http://www.bbsnet.com/xibuxihuanwo.html\n",
      "波妞下载完毕！\n",
      "波妞正在收集你的表情包url哦: ['http://www.bbsnet.com/maomi-16.html', 'http://www.bbsnet.com/bugousao.html', 'http://www.bbsnet.com/hunchidengsi.html', 'http://www.bbsnet.com/bujiehun.html', 'http://www.bbsnet.com/beiwei.html', 'http://www.bbsnet.com/yazi-5.html', 'http://www.bbsnet.com/tuifei.html', 'http://www.bbsnet.com/guangchang.html', 'http://www.bbsnet.com/tanpaiba.html', 'http://www.bbsnet.com/goudongxi.html', 'http://www.bbsnet.com/guanyuaiqing.html', 'http://www.bbsnet.com/heng.html', 'http://www.bbsnet.com/shehuiren-3.html', 'http://www.bbsnet.com/meiyouqian.html', 'http://www.bbsnet.com/huangzhang66.html', 'http://www.bbsnet.com/xinnigegui.html', 'http://www.bbsnet.com/xiongmaoren-17.html', 'http://www.bbsnet.com/maomi-15.html', 'http://www.bbsnet.com/kuchengleiren.html', 'http://www.bbsnet.com/zaodianshui.html', 'http://www.bbsnet.com/xiannvxiafan.html', 'http://www.bbsnet.com/jiantou.html', 'http://www.bbsnet.com/shangkousayan.html', 'http://www.bbsnet.com/chaiquan-5.html', 'http://www.bbsnet.com/biaoqingguo.html', 'http://www.bbsnet.com/chiqiaokeli.html', 'http://www.bbsnet.com/dazhutizi.html', 'http://www.bbsnet.com/ganga.html', 'http://www.bbsnet.com/miaoshi.html', 'http://www.bbsnet.com/baodatui.html']\n",
      "波妞正在努力下载哦 ： http://www.bbsnet.com/maomi-16.html\n",
      "波妞正在努力下载哦 ： http://www.bbsnet.com/bugousao.html\n",
      "波妞正在努力下载哦 ： http://www.bbsnet.com/hunchidengsi.html\n",
      "波妞正在努力下载哦 ： http://www.bbsnet.com/bujiehun.html\n",
      "波妞正在努力下载哦 ： http://www.bbsnet.com/beiwei.html\n",
      "波妞正在努力下载哦 ： http://www.bbsnet.com/yazi-5.html\n"
     ]
    },
    {
     "ename": "ConnectionError",
     "evalue": "HTTPConnectionPool(host='www.bbsnet.com', port=80): Max retries exceeded with url: /tuifei.html (Caused by NewConnectionError('<urllib3.connection.HTTPConnection object at 0x00000226A0FF3EB8>: Failed to establish a new connection: [WinError 10060] A connection attempt failed because the connected party did not properly respond after a period of time, or established connection failed because connected host has failed to respond'))",
     "output_type": "error",
     "traceback": [
      "\u001b[1;31m---------------------------------------------------------------------------\u001b[0m",
      "\u001b[1;31mTimeoutError\u001b[0m                              Traceback (most recent call last)",
      "\u001b[1;32m~\\Anaconda3\\lib\\site-packages\\urllib3\\connection.py\u001b[0m in \u001b[0;36m_new_conn\u001b[1;34m(self)\u001b[0m\n\u001b[0;32m    158\u001b[0m             conn = connection.create_connection(\n\u001b[1;32m--> 159\u001b[1;33m                 (self._dns_host, self.port), self.timeout, **extra_kw)\n\u001b[0m\u001b[0;32m    160\u001b[0m \u001b[1;33m\u001b[0m\u001b[0m\n",
      "\u001b[1;32m~\\Anaconda3\\lib\\site-packages\\urllib3\\util\\connection.py\u001b[0m in \u001b[0;36mcreate_connection\u001b[1;34m(address, timeout, source_address, socket_options)\u001b[0m\n\u001b[0;32m     79\u001b[0m     \u001b[1;32mif\u001b[0m \u001b[0merr\u001b[0m \u001b[1;32mis\u001b[0m \u001b[1;32mnot\u001b[0m \u001b[1;32mNone\u001b[0m\u001b[1;33m:\u001b[0m\u001b[1;33m\u001b[0m\u001b[1;33m\u001b[0m\u001b[0m\n\u001b[1;32m---> 80\u001b[1;33m         \u001b[1;32mraise\u001b[0m \u001b[0merr\u001b[0m\u001b[1;33m\u001b[0m\u001b[1;33m\u001b[0m\u001b[0m\n\u001b[0m\u001b[0;32m     81\u001b[0m \u001b[1;33m\u001b[0m\u001b[0m\n",
      "\u001b[1;32m~\\Anaconda3\\lib\\site-packages\\urllib3\\util\\connection.py\u001b[0m in \u001b[0;36mcreate_connection\u001b[1;34m(address, timeout, source_address, socket_options)\u001b[0m\n\u001b[0;32m     69\u001b[0m                 \u001b[0msock\u001b[0m\u001b[1;33m.\u001b[0m\u001b[0mbind\u001b[0m\u001b[1;33m(\u001b[0m\u001b[0msource_address\u001b[0m\u001b[1;33m)\u001b[0m\u001b[1;33m\u001b[0m\u001b[1;33m\u001b[0m\u001b[0m\n\u001b[1;32m---> 70\u001b[1;33m             \u001b[0msock\u001b[0m\u001b[1;33m.\u001b[0m\u001b[0mconnect\u001b[0m\u001b[1;33m(\u001b[0m\u001b[0msa\u001b[0m\u001b[1;33m)\u001b[0m\u001b[1;33m\u001b[0m\u001b[1;33m\u001b[0m\u001b[0m\n\u001b[0m\u001b[0;32m     71\u001b[0m             \u001b[1;32mreturn\u001b[0m \u001b[0msock\u001b[0m\u001b[1;33m\u001b[0m\u001b[1;33m\u001b[0m\u001b[0m\n",
      "\u001b[1;31mTimeoutError\u001b[0m: [WinError 10060] A connection attempt failed because the connected party did not properly respond after a period of time, or established connection failed because connected host has failed to respond",
      "\nDuring handling of the above exception, another exception occurred:\n",
      "\u001b[1;31mNewConnectionError\u001b[0m                        Traceback (most recent call last)",
      "\u001b[1;32m~\\Anaconda3\\lib\\site-packages\\urllib3\\connectionpool.py\u001b[0m in \u001b[0;36murlopen\u001b[1;34m(self, method, url, body, headers, retries, redirect, assert_same_host, timeout, pool_timeout, release_conn, chunked, body_pos, **response_kw)\u001b[0m\n\u001b[0;32m    599\u001b[0m                                                   \u001b[0mbody\u001b[0m\u001b[1;33m=\u001b[0m\u001b[0mbody\u001b[0m\u001b[1;33m,\u001b[0m \u001b[0mheaders\u001b[0m\u001b[1;33m=\u001b[0m\u001b[0mheaders\u001b[0m\u001b[1;33m,\u001b[0m\u001b[1;33m\u001b[0m\u001b[1;33m\u001b[0m\u001b[0m\n\u001b[1;32m--> 600\u001b[1;33m                                                   chunked=chunked)\n\u001b[0m\u001b[0;32m    601\u001b[0m \u001b[1;33m\u001b[0m\u001b[0m\n",
      "\u001b[1;32m~\\Anaconda3\\lib\\site-packages\\urllib3\\connectionpool.py\u001b[0m in \u001b[0;36m_make_request\u001b[1;34m(self, conn, method, url, timeout, chunked, **httplib_request_kw)\u001b[0m\n\u001b[0;32m    353\u001b[0m         \u001b[1;32melse\u001b[0m\u001b[1;33m:\u001b[0m\u001b[1;33m\u001b[0m\u001b[1;33m\u001b[0m\u001b[0m\n\u001b[1;32m--> 354\u001b[1;33m             \u001b[0mconn\u001b[0m\u001b[1;33m.\u001b[0m\u001b[0mrequest\u001b[0m\u001b[1;33m(\u001b[0m\u001b[0mmethod\u001b[0m\u001b[1;33m,\u001b[0m \u001b[0murl\u001b[0m\u001b[1;33m,\u001b[0m \u001b[1;33m**\u001b[0m\u001b[0mhttplib_request_kw\u001b[0m\u001b[1;33m)\u001b[0m\u001b[1;33m\u001b[0m\u001b[1;33m\u001b[0m\u001b[0m\n\u001b[0m\u001b[0;32m    355\u001b[0m \u001b[1;33m\u001b[0m\u001b[0m\n",
      "\u001b[1;32m~\\Anaconda3\\lib\\http\\client.py\u001b[0m in \u001b[0;36mrequest\u001b[1;34m(self, method, url, body, headers, encode_chunked)\u001b[0m\n\u001b[0;32m   1228\u001b[0m         \u001b[1;34m\"\"\"Send a complete request to the server.\"\"\"\u001b[0m\u001b[1;33m\u001b[0m\u001b[1;33m\u001b[0m\u001b[0m\n\u001b[1;32m-> 1229\u001b[1;33m         \u001b[0mself\u001b[0m\u001b[1;33m.\u001b[0m\u001b[0m_send_request\u001b[0m\u001b[1;33m(\u001b[0m\u001b[0mmethod\u001b[0m\u001b[1;33m,\u001b[0m \u001b[0murl\u001b[0m\u001b[1;33m,\u001b[0m \u001b[0mbody\u001b[0m\u001b[1;33m,\u001b[0m \u001b[0mheaders\u001b[0m\u001b[1;33m,\u001b[0m \u001b[0mencode_chunked\u001b[0m\u001b[1;33m)\u001b[0m\u001b[1;33m\u001b[0m\u001b[1;33m\u001b[0m\u001b[0m\n\u001b[0m\u001b[0;32m   1230\u001b[0m \u001b[1;33m\u001b[0m\u001b[0m\n",
      "\u001b[1;32m~\\Anaconda3\\lib\\http\\client.py\u001b[0m in \u001b[0;36m_send_request\u001b[1;34m(self, method, url, body, headers, encode_chunked)\u001b[0m\n\u001b[0;32m   1274\u001b[0m             \u001b[0mbody\u001b[0m \u001b[1;33m=\u001b[0m \u001b[0m_encode\u001b[0m\u001b[1;33m(\u001b[0m\u001b[0mbody\u001b[0m\u001b[1;33m,\u001b[0m \u001b[1;34m'body'\u001b[0m\u001b[1;33m)\u001b[0m\u001b[1;33m\u001b[0m\u001b[1;33m\u001b[0m\u001b[0m\n\u001b[1;32m-> 1275\u001b[1;33m         \u001b[0mself\u001b[0m\u001b[1;33m.\u001b[0m\u001b[0mendheaders\u001b[0m\u001b[1;33m(\u001b[0m\u001b[0mbody\u001b[0m\u001b[1;33m,\u001b[0m \u001b[0mencode_chunked\u001b[0m\u001b[1;33m=\u001b[0m\u001b[0mencode_chunked\u001b[0m\u001b[1;33m)\u001b[0m\u001b[1;33m\u001b[0m\u001b[1;33m\u001b[0m\u001b[0m\n\u001b[0m\u001b[0;32m   1276\u001b[0m \u001b[1;33m\u001b[0m\u001b[0m\n",
      "\u001b[1;32m~\\Anaconda3\\lib\\http\\client.py\u001b[0m in \u001b[0;36mendheaders\u001b[1;34m(self, message_body, encode_chunked)\u001b[0m\n\u001b[0;32m   1223\u001b[0m             \u001b[1;32mraise\u001b[0m \u001b[0mCannotSendHeader\u001b[0m\u001b[1;33m(\u001b[0m\u001b[1;33m)\u001b[0m\u001b[1;33m\u001b[0m\u001b[1;33m\u001b[0m\u001b[0m\n\u001b[1;32m-> 1224\u001b[1;33m         \u001b[0mself\u001b[0m\u001b[1;33m.\u001b[0m\u001b[0m_send_output\u001b[0m\u001b[1;33m(\u001b[0m\u001b[0mmessage_body\u001b[0m\u001b[1;33m,\u001b[0m \u001b[0mencode_chunked\u001b[0m\u001b[1;33m=\u001b[0m\u001b[0mencode_chunked\u001b[0m\u001b[1;33m)\u001b[0m\u001b[1;33m\u001b[0m\u001b[1;33m\u001b[0m\u001b[0m\n\u001b[0m\u001b[0;32m   1225\u001b[0m \u001b[1;33m\u001b[0m\u001b[0m\n",
      "\u001b[1;32m~\\Anaconda3\\lib\\http\\client.py\u001b[0m in \u001b[0;36m_send_output\u001b[1;34m(self, message_body, encode_chunked)\u001b[0m\n\u001b[0;32m   1015\u001b[0m         \u001b[1;32mdel\u001b[0m \u001b[0mself\u001b[0m\u001b[1;33m.\u001b[0m\u001b[0m_buffer\u001b[0m\u001b[1;33m[\u001b[0m\u001b[1;33m:\u001b[0m\u001b[1;33m]\u001b[0m\u001b[1;33m\u001b[0m\u001b[1;33m\u001b[0m\u001b[0m\n\u001b[1;32m-> 1016\u001b[1;33m         \u001b[0mself\u001b[0m\u001b[1;33m.\u001b[0m\u001b[0msend\u001b[0m\u001b[1;33m(\u001b[0m\u001b[0mmsg\u001b[0m\u001b[1;33m)\u001b[0m\u001b[1;33m\u001b[0m\u001b[1;33m\u001b[0m\u001b[0m\n\u001b[0m\u001b[0;32m   1017\u001b[0m \u001b[1;33m\u001b[0m\u001b[0m\n",
      "\u001b[1;32m~\\Anaconda3\\lib\\http\\client.py\u001b[0m in \u001b[0;36msend\u001b[1;34m(self, data)\u001b[0m\n\u001b[0;32m    955\u001b[0m             \u001b[1;32mif\u001b[0m \u001b[0mself\u001b[0m\u001b[1;33m.\u001b[0m\u001b[0mauto_open\u001b[0m\u001b[1;33m:\u001b[0m\u001b[1;33m\u001b[0m\u001b[1;33m\u001b[0m\u001b[0m\n\u001b[1;32m--> 956\u001b[1;33m                 \u001b[0mself\u001b[0m\u001b[1;33m.\u001b[0m\u001b[0mconnect\u001b[0m\u001b[1;33m(\u001b[0m\u001b[1;33m)\u001b[0m\u001b[1;33m\u001b[0m\u001b[1;33m\u001b[0m\u001b[0m\n\u001b[0m\u001b[0;32m    957\u001b[0m             \u001b[1;32melse\u001b[0m\u001b[1;33m:\u001b[0m\u001b[1;33m\u001b[0m\u001b[1;33m\u001b[0m\u001b[0m\n",
      "\u001b[1;32m~\\Anaconda3\\lib\\site-packages\\urllib3\\connection.py\u001b[0m in \u001b[0;36mconnect\u001b[1;34m(self)\u001b[0m\n\u001b[0;32m    180\u001b[0m     \u001b[1;32mdef\u001b[0m \u001b[0mconnect\u001b[0m\u001b[1;33m(\u001b[0m\u001b[0mself\u001b[0m\u001b[1;33m)\u001b[0m\u001b[1;33m:\u001b[0m\u001b[1;33m\u001b[0m\u001b[1;33m\u001b[0m\u001b[0m\n\u001b[1;32m--> 181\u001b[1;33m         \u001b[0mconn\u001b[0m \u001b[1;33m=\u001b[0m \u001b[0mself\u001b[0m\u001b[1;33m.\u001b[0m\u001b[0m_new_conn\u001b[0m\u001b[1;33m(\u001b[0m\u001b[1;33m)\u001b[0m\u001b[1;33m\u001b[0m\u001b[1;33m\u001b[0m\u001b[0m\n\u001b[0m\u001b[0;32m    182\u001b[0m         \u001b[0mself\u001b[0m\u001b[1;33m.\u001b[0m\u001b[0m_prepare_conn\u001b[0m\u001b[1;33m(\u001b[0m\u001b[0mconn\u001b[0m\u001b[1;33m)\u001b[0m\u001b[1;33m\u001b[0m\u001b[1;33m\u001b[0m\u001b[0m\n",
      "\u001b[1;32m~\\Anaconda3\\lib\\site-packages\\urllib3\\connection.py\u001b[0m in \u001b[0;36m_new_conn\u001b[1;34m(self)\u001b[0m\n\u001b[0;32m    167\u001b[0m             raise NewConnectionError(\n\u001b[1;32m--> 168\u001b[1;33m                 self, \"Failed to establish a new connection: %s\" % e)\n\u001b[0m\u001b[0;32m    169\u001b[0m \u001b[1;33m\u001b[0m\u001b[0m\n",
      "\u001b[1;31mNewConnectionError\u001b[0m: <urllib3.connection.HTTPConnection object at 0x00000226A0FF3EB8>: Failed to establish a new connection: [WinError 10060] A connection attempt failed because the connected party did not properly respond after a period of time, or established connection failed because connected host has failed to respond",
      "\nDuring handling of the above exception, another exception occurred:\n",
      "\u001b[1;31mMaxRetryError\u001b[0m                             Traceback (most recent call last)",
      "\u001b[1;32m~\\Anaconda3\\lib\\site-packages\\requests\\adapters.py\u001b[0m in \u001b[0;36msend\u001b[1;34m(self, request, stream, timeout, verify, cert, proxies)\u001b[0m\n\u001b[0;32m    448\u001b[0m                     \u001b[0mretries\u001b[0m\u001b[1;33m=\u001b[0m\u001b[0mself\u001b[0m\u001b[1;33m.\u001b[0m\u001b[0mmax_retries\u001b[0m\u001b[1;33m,\u001b[0m\u001b[1;33m\u001b[0m\u001b[1;33m\u001b[0m\u001b[0m\n\u001b[1;32m--> 449\u001b[1;33m                     \u001b[0mtimeout\u001b[0m\u001b[1;33m=\u001b[0m\u001b[0mtimeout\u001b[0m\u001b[1;33m\u001b[0m\u001b[1;33m\u001b[0m\u001b[0m\n\u001b[0m\u001b[0;32m    450\u001b[0m                 )\n",
      "\u001b[1;32m~\\Anaconda3\\lib\\site-packages\\urllib3\\connectionpool.py\u001b[0m in \u001b[0;36murlopen\u001b[1;34m(self, method, url, body, headers, retries, redirect, assert_same_host, timeout, pool_timeout, release_conn, chunked, body_pos, **response_kw)\u001b[0m\n\u001b[0;32m    637\u001b[0m             retries = retries.increment(method, url, error=e, _pool=self,\n\u001b[1;32m--> 638\u001b[1;33m                                         _stacktrace=sys.exc_info()[2])\n\u001b[0m\u001b[0;32m    639\u001b[0m             \u001b[0mretries\u001b[0m\u001b[1;33m.\u001b[0m\u001b[0msleep\u001b[0m\u001b[1;33m(\u001b[0m\u001b[1;33m)\u001b[0m\u001b[1;33m\u001b[0m\u001b[1;33m\u001b[0m\u001b[0m\n",
      "\u001b[1;32m~\\Anaconda3\\lib\\site-packages\\urllib3\\util\\retry.py\u001b[0m in \u001b[0;36mincrement\u001b[1;34m(self, method, url, response, error, _pool, _stacktrace)\u001b[0m\n\u001b[0;32m    397\u001b[0m         \u001b[1;32mif\u001b[0m \u001b[0mnew_retry\u001b[0m\u001b[1;33m.\u001b[0m\u001b[0mis_exhausted\u001b[0m\u001b[1;33m(\u001b[0m\u001b[1;33m)\u001b[0m\u001b[1;33m:\u001b[0m\u001b[1;33m\u001b[0m\u001b[1;33m\u001b[0m\u001b[0m\n\u001b[1;32m--> 398\u001b[1;33m             \u001b[1;32mraise\u001b[0m \u001b[0mMaxRetryError\u001b[0m\u001b[1;33m(\u001b[0m\u001b[0m_pool\u001b[0m\u001b[1;33m,\u001b[0m \u001b[0murl\u001b[0m\u001b[1;33m,\u001b[0m \u001b[0merror\u001b[0m \u001b[1;32mor\u001b[0m \u001b[0mResponseError\u001b[0m\u001b[1;33m(\u001b[0m\u001b[0mcause\u001b[0m\u001b[1;33m)\u001b[0m\u001b[1;33m)\u001b[0m\u001b[1;33m\u001b[0m\u001b[1;33m\u001b[0m\u001b[0m\n\u001b[0m\u001b[0;32m    399\u001b[0m \u001b[1;33m\u001b[0m\u001b[0m\n",
      "\u001b[1;31mMaxRetryError\u001b[0m: HTTPConnectionPool(host='www.bbsnet.com', port=80): Max retries exceeded with url: /tuifei.html (Caused by NewConnectionError('<urllib3.connection.HTTPConnection object at 0x00000226A0FF3EB8>: Failed to establish a new connection: [WinError 10060] A connection attempt failed because the connected party did not properly respond after a period of time, or established connection failed because connected host has failed to respond'))",
      "\nDuring handling of the above exception, another exception occurred:\n",
      "\u001b[1;31mConnectionError\u001b[0m                           Traceback (most recent call last)",
      "\u001b[1;32m<ipython-input-8-fbc446b400e1>\u001b[0m in \u001b[0;36m<module>\u001b[1;34m\u001b[0m\n\u001b[0;32m     29\u001b[0m \u001b[1;33m\u001b[0m\u001b[0m\n\u001b[0;32m     30\u001b[0m     \u001b[1;32mfor\u001b[0m \u001b[0murl\u001b[0m \u001b[1;32min\u001b[0m \u001b[0murls\u001b[0m\u001b[1;33m:\u001b[0m\u001b[1;33m\u001b[0m\u001b[1;33m\u001b[0m\u001b[0m\n\u001b[1;32m---> 31\u001b[1;33m         \u001b[0mdownloadimage\u001b[0m\u001b[1;33m(\u001b[0m\u001b[0murl\u001b[0m\u001b[1;33m)\u001b[0m\u001b[1;33m\u001b[0m\u001b[1;33m\u001b[0m\u001b[0m\n\u001b[0m\u001b[0;32m     32\u001b[0m     \u001b[0mprint\u001b[0m\u001b[1;33m(\u001b[0m\u001b[1;34m'波妞下载完毕！'\u001b[0m\u001b[1;33m)\u001b[0m\u001b[1;33m\u001b[0m\u001b[1;33m\u001b[0m\u001b[0m\n",
      "\u001b[1;32m<ipython-input-5-e3b1c3d4d406>\u001b[0m in \u001b[0;36mdownloadimage\u001b[1;34m(url)\u001b[0m\n\u001b[0;32m     22\u001b[0m         \u001b[1;34m'User-Agent'\u001b[0m\u001b[1;33m:\u001b[0m\u001b[1;34m'Mozilla/5.0 (Windows NT 10.0; Win64; x64) AppleWebKit/537.36 (KHTML, like Gecko) Chrome/75.0.3770.100 Safari/537.36'\u001b[0m\u001b[1;33m\u001b[0m\u001b[1;33m\u001b[0m\u001b[0m\n\u001b[0;32m     23\u001b[0m     }\n\u001b[1;32m---> 24\u001b[1;33m     \u001b[0mr\u001b[0m \u001b[1;33m=\u001b[0m \u001b[0mrequests\u001b[0m\u001b[1;33m.\u001b[0m\u001b[0mget\u001b[0m\u001b[1;33m(\u001b[0m\u001b[0murl\u001b[0m\u001b[1;33m,\u001b[0m\u001b[0mheaders\u001b[0m\u001b[1;33m=\u001b[0m\u001b[0mheaders\u001b[0m\u001b[1;33m)\u001b[0m\u001b[1;33m.\u001b[0m\u001b[0mtext\u001b[0m\u001b[1;33m\u001b[0m\u001b[1;33m\u001b[0m\u001b[0m\n\u001b[0m\u001b[0;32m     25\u001b[0m     \u001b[0mhtml\u001b[0m \u001b[1;33m=\u001b[0m \u001b[0metree\u001b[0m\u001b[1;33m.\u001b[0m\u001b[0mHTML\u001b[0m\u001b[1;33m(\u001b[0m\u001b[0mr\u001b[0m\u001b[1;33m)\u001b[0m\u001b[1;33m\u001b[0m\u001b[1;33m\u001b[0m\u001b[0m\n\u001b[0;32m     26\u001b[0m \u001b[1;33m\u001b[0m\u001b[0m\n",
      "\u001b[1;32m~\\Anaconda3\\lib\\site-packages\\requests\\api.py\u001b[0m in \u001b[0;36mget\u001b[1;34m(url, params, **kwargs)\u001b[0m\n\u001b[0;32m     73\u001b[0m \u001b[1;33m\u001b[0m\u001b[0m\n\u001b[0;32m     74\u001b[0m     \u001b[0mkwargs\u001b[0m\u001b[1;33m.\u001b[0m\u001b[0msetdefault\u001b[0m\u001b[1;33m(\u001b[0m\u001b[1;34m'allow_redirects'\u001b[0m\u001b[1;33m,\u001b[0m \u001b[1;32mTrue\u001b[0m\u001b[1;33m)\u001b[0m\u001b[1;33m\u001b[0m\u001b[1;33m\u001b[0m\u001b[0m\n\u001b[1;32m---> 75\u001b[1;33m     \u001b[1;32mreturn\u001b[0m \u001b[0mrequest\u001b[0m\u001b[1;33m(\u001b[0m\u001b[1;34m'get'\u001b[0m\u001b[1;33m,\u001b[0m \u001b[0murl\u001b[0m\u001b[1;33m,\u001b[0m \u001b[0mparams\u001b[0m\u001b[1;33m=\u001b[0m\u001b[0mparams\u001b[0m\u001b[1;33m,\u001b[0m \u001b[1;33m**\u001b[0m\u001b[0mkwargs\u001b[0m\u001b[1;33m)\u001b[0m\u001b[1;33m\u001b[0m\u001b[1;33m\u001b[0m\u001b[0m\n\u001b[0m\u001b[0;32m     76\u001b[0m \u001b[1;33m\u001b[0m\u001b[0m\n\u001b[0;32m     77\u001b[0m \u001b[1;33m\u001b[0m\u001b[0m\n",
      "\u001b[1;32m~\\Anaconda3\\lib\\site-packages\\requests\\api.py\u001b[0m in \u001b[0;36mrequest\u001b[1;34m(method, url, **kwargs)\u001b[0m\n\u001b[0;32m     58\u001b[0m     \u001b[1;31m# cases, and look like a memory leak in others.\u001b[0m\u001b[1;33m\u001b[0m\u001b[1;33m\u001b[0m\u001b[1;33m\u001b[0m\u001b[0m\n\u001b[0;32m     59\u001b[0m     \u001b[1;32mwith\u001b[0m \u001b[0msessions\u001b[0m\u001b[1;33m.\u001b[0m\u001b[0mSession\u001b[0m\u001b[1;33m(\u001b[0m\u001b[1;33m)\u001b[0m \u001b[1;32mas\u001b[0m \u001b[0msession\u001b[0m\u001b[1;33m:\u001b[0m\u001b[1;33m\u001b[0m\u001b[1;33m\u001b[0m\u001b[0m\n\u001b[1;32m---> 60\u001b[1;33m         \u001b[1;32mreturn\u001b[0m \u001b[0msession\u001b[0m\u001b[1;33m.\u001b[0m\u001b[0mrequest\u001b[0m\u001b[1;33m(\u001b[0m\u001b[0mmethod\u001b[0m\u001b[1;33m=\u001b[0m\u001b[0mmethod\u001b[0m\u001b[1;33m,\u001b[0m \u001b[0murl\u001b[0m\u001b[1;33m=\u001b[0m\u001b[0murl\u001b[0m\u001b[1;33m,\u001b[0m \u001b[1;33m**\u001b[0m\u001b[0mkwargs\u001b[0m\u001b[1;33m)\u001b[0m\u001b[1;33m\u001b[0m\u001b[1;33m\u001b[0m\u001b[0m\n\u001b[0m\u001b[0;32m     61\u001b[0m \u001b[1;33m\u001b[0m\u001b[0m\n\u001b[0;32m     62\u001b[0m \u001b[1;33m\u001b[0m\u001b[0m\n",
      "\u001b[1;32m~\\Anaconda3\\lib\\site-packages\\requests\\sessions.py\u001b[0m in \u001b[0;36mrequest\u001b[1;34m(self, method, url, params, data, headers, cookies, files, auth, timeout, allow_redirects, proxies, hooks, stream, verify, cert, json)\u001b[0m\n\u001b[0;32m    531\u001b[0m         }\n\u001b[0;32m    532\u001b[0m         \u001b[0msend_kwargs\u001b[0m\u001b[1;33m.\u001b[0m\u001b[0mupdate\u001b[0m\u001b[1;33m(\u001b[0m\u001b[0msettings\u001b[0m\u001b[1;33m)\u001b[0m\u001b[1;33m\u001b[0m\u001b[1;33m\u001b[0m\u001b[0m\n\u001b[1;32m--> 533\u001b[1;33m         \u001b[0mresp\u001b[0m \u001b[1;33m=\u001b[0m \u001b[0mself\u001b[0m\u001b[1;33m.\u001b[0m\u001b[0msend\u001b[0m\u001b[1;33m(\u001b[0m\u001b[0mprep\u001b[0m\u001b[1;33m,\u001b[0m \u001b[1;33m**\u001b[0m\u001b[0msend_kwargs\u001b[0m\u001b[1;33m)\u001b[0m\u001b[1;33m\u001b[0m\u001b[1;33m\u001b[0m\u001b[0m\n\u001b[0m\u001b[0;32m    534\u001b[0m \u001b[1;33m\u001b[0m\u001b[0m\n\u001b[0;32m    535\u001b[0m         \u001b[1;32mreturn\u001b[0m \u001b[0mresp\u001b[0m\u001b[1;33m\u001b[0m\u001b[1;33m\u001b[0m\u001b[0m\n",
      "\u001b[1;32m~\\Anaconda3\\lib\\site-packages\\requests\\sessions.py\u001b[0m in \u001b[0;36msend\u001b[1;34m(self, request, **kwargs)\u001b[0m\n\u001b[0;32m    644\u001b[0m \u001b[1;33m\u001b[0m\u001b[0m\n\u001b[0;32m    645\u001b[0m         \u001b[1;31m# Send the request\u001b[0m\u001b[1;33m\u001b[0m\u001b[1;33m\u001b[0m\u001b[1;33m\u001b[0m\u001b[0m\n\u001b[1;32m--> 646\u001b[1;33m         \u001b[0mr\u001b[0m \u001b[1;33m=\u001b[0m \u001b[0madapter\u001b[0m\u001b[1;33m.\u001b[0m\u001b[0msend\u001b[0m\u001b[1;33m(\u001b[0m\u001b[0mrequest\u001b[0m\u001b[1;33m,\u001b[0m \u001b[1;33m**\u001b[0m\u001b[0mkwargs\u001b[0m\u001b[1;33m)\u001b[0m\u001b[1;33m\u001b[0m\u001b[1;33m\u001b[0m\u001b[0m\n\u001b[0m\u001b[0;32m    647\u001b[0m \u001b[1;33m\u001b[0m\u001b[0m\n\u001b[0;32m    648\u001b[0m         \u001b[1;31m# Total elapsed time of the request (approximately)\u001b[0m\u001b[1;33m\u001b[0m\u001b[1;33m\u001b[0m\u001b[1;33m\u001b[0m\u001b[0m\n",
      "\u001b[1;32m~\\Anaconda3\\lib\\site-packages\\requests\\adapters.py\u001b[0m in \u001b[0;36msend\u001b[1;34m(self, request, stream, timeout, verify, cert, proxies)\u001b[0m\n\u001b[0;32m    514\u001b[0m                 \u001b[1;32mraise\u001b[0m \u001b[0mSSLError\u001b[0m\u001b[1;33m(\u001b[0m\u001b[0me\u001b[0m\u001b[1;33m,\u001b[0m \u001b[0mrequest\u001b[0m\u001b[1;33m=\u001b[0m\u001b[0mrequest\u001b[0m\u001b[1;33m)\u001b[0m\u001b[1;33m\u001b[0m\u001b[1;33m\u001b[0m\u001b[0m\n\u001b[0;32m    515\u001b[0m \u001b[1;33m\u001b[0m\u001b[0m\n\u001b[1;32m--> 516\u001b[1;33m             \u001b[1;32mraise\u001b[0m \u001b[0mConnectionError\u001b[0m\u001b[1;33m(\u001b[0m\u001b[0me\u001b[0m\u001b[1;33m,\u001b[0m \u001b[0mrequest\u001b[0m\u001b[1;33m=\u001b[0m\u001b[0mrequest\u001b[0m\u001b[1;33m)\u001b[0m\u001b[1;33m\u001b[0m\u001b[1;33m\u001b[0m\u001b[0m\n\u001b[0m\u001b[0;32m    517\u001b[0m \u001b[1;33m\u001b[0m\u001b[0m\n\u001b[0;32m    518\u001b[0m         \u001b[1;32mexcept\u001b[0m \u001b[0mClosedPoolError\u001b[0m \u001b[1;32mas\u001b[0m \u001b[0me\u001b[0m\u001b[1;33m:\u001b[0m\u001b[1;33m\u001b[0m\u001b[1;33m\u001b[0m\u001b[0m\n",
      "\u001b[1;31mConnectionError\u001b[0m: HTTPConnectionPool(host='www.bbsnet.com', port=80): Max retries exceeded with url: /tuifei.html (Caused by NewConnectionError('<urllib3.connection.HTTPConnection object at 0x00000226A0FF3EB8>: Failed to establish a new connection: [WinError 10060] A connection attempt failed because the connected party did not properly respond after a period of time, or established connection failed because connected host has failed to respond'))"
     ]
    }
   ],
   "source": [
    "# main\n",
    "#C:\\Users\\richa\\Desktop\\表情包\n",
    "# 产生保存的路径\n",
    "path = input('波妞能爬表情包哦，让波妞为宗介服务哇：请输如要保存到的文件夹地址>>>>>>')\n",
    "\n",
    "#生成新的保存图片的文件夹路径path\n",
    "path_final = path +  '\\\\' +   '表情包'\n",
    "\n",
    "# 判断存在这个文件夹否,有就pass，没有就创建\n",
    "if os.path.exists(path_final):\n",
    "    print('波妞先看看文件夹是否存在:',os.path.exists(path_final))\n",
    "    pass\n",
    "# os.chdir('path')\n",
    "else:\n",
    "    print('波妞先看看文件夹是否存在:',os.path.exists(path_final))\n",
    "    os.mkdir(path_final)\n",
    "\n",
    "###########################################################################\n",
    "\n",
    "pages = input('宗介，你想要下载多少页啊？一页好像有30个表情>>>>>')\n",
    "\n",
    "pages = int(pages)\n",
    "for page in range(1,pages+1):\n",
    "    url ='http://www.bbsnet.com/biaoqingbao/page'+ '/' + str(page)\n",
    "\n",
    "    html  = get_html(url)\n",
    "\n",
    "    urls =parse_image_html(html)\n",
    "\n",
    "    for url in urls:\n",
    "        downloadimage(url)\n",
    "    print('波妞下载完毕！')"
   ]
  },
  {
   "cell_type": "markdown",
   "metadata": {},
   "source": [
    "# 调试"
   ]
  },
  {
   "cell_type": "code",
   "execution_count": null,
   "metadata": {},
   "outputs": [],
   "source": [
    "headers ={\n",
    "        'User-Agent':'Mozilla/5.0 (Windows NT 10.0; Win64; x64) AppleWebKit/537.36 (KHTML, like Gecko) Chrome/75.0.3770.100 Safari/537.36'\n",
    "    }\n",
    "html = requests.get(url,headers = headers).text"
   ]
  },
  {
   "cell_type": "code",
   "execution_count": null,
   "metadata": {},
   "outputs": [],
   "source": [
    "html"
   ]
  },
  {
   "cell_type": "code",
   "execution_count": null,
   "metadata": {},
   "outputs": [],
   "source": [
    "html = etree.HTML(html)"
   ]
  },
  {
   "cell_type": "code",
   "execution_count": null,
   "metadata": {
    "scrolled": true
   },
   "outputs": [],
   "source": [
    "# 有多少个这样的模式\n",
    "lis = html.xpath('//div[@class=\"mainleft\"]/ul/li')\n",
    "len(lis)\n",
    "#//*[@id=\"post_container\"]/li[2]\n",
    "# //*[@id=\"post_container\"]/li[2]/div[1]/a"
   ]
  },
  {
   "cell_type": "code",
   "execution_count": null,
   "metadata": {},
   "outputs": [],
   "source": [
    "li1=lis[0].xpath('.//div/a/@href')\n",
    "li1"
   ]
  },
  {
   "cell_type": "code",
   "execution_count": null,
   "metadata": {},
   "outputs": [],
   "source": [
    "a=[].append('s')\n",
    "a"
   ]
  },
  {
   "cell_type": "code",
   "execution_count": null,
   "metadata": {},
   "outputs": [],
   "source": [
    "a=[]\n",
    "a.append('s')\n",
    "a=a[0]\n",
    "a"
   ]
  },
  {
   "cell_type": "code",
   "execution_count": null,
   "metadata": {},
   "outputs": [],
   "source": []
  }
 ],
 "metadata": {
  "kernelspec": {
   "display_name": "Python 3",
   "language": "python",
   "name": "python3"
  },
  "language_info": {
   "codemirror_mode": {
    "name": "ipython",
    "version": 3
   },
   "file_extension": ".py",
   "mimetype": "text/x-python",
   "name": "python",
   "nbconvert_exporter": "python",
   "pygments_lexer": "ipython3",
   "version": "3.7.3"
  }
 },
 "nbformat": 4,
 "nbformat_minor": 2
}
